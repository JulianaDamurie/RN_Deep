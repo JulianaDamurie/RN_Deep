{
 "cells": [
  {
   "cell_type": "code",
   "execution_count": 41,
   "metadata": {},
   "outputs": [],
   "source": [
    "from keras.models import Sequential\n",
    "from keras.layers import Dense, Activation\n",
    "from keras.optimizers import SGD\n",
    "from keras.utils import np_utils\n",
    "from keras.models import model_from_yaml"
   ]
  },
  {
   "cell_type": "code",
   "execution_count": 45,
   "metadata": {},
   "outputs": [],
   "source": [
    "def saveModel(model, savename):\n",
    "  # serialize model to YAML\n",
    "  model_yaml = model.to_yaml()\n",
    "  with open(savename+\".yaml\", \"w\") as yaml_file:\n",
    "    yaml_file.write(model_yaml)\n",
    "    print(\"Yaml Model \",savename,\".yaml saved to disk\")\n",
    "  # serialize weights to HDF5\n",
    "  model.save_weights(savename+\".h5\")\n",
    "  print(\"Weights \",savename,\".h5 saved to disk\")"
   ]
  },
  {
   "cell_type": "code",
   "execution_count": 46,
   "metadata": {},
   "outputs": [
    {
     "name": "stdout",
     "output_type": "stream",
     "text": [
      "60000 train samples\n",
      "10000 test samples\n"
     ]
    }
   ],
   "source": [
    "from keras.datasets import mnist\n",
    "# the data, shuffled and split between train and test sets\n",
    "(X_train, y_train), (X_test, y_test) = mnist.load_data()\n",
    "X_train = X_train.reshape(60000, 784)\n",
    "X_test = X_test.reshape(10000, 784)\n",
    "X_train = X_train.astype('float32')\n",
    "X_test = X_test.astype('float32')\n",
    "X_train /= 255\n",
    "X_test /= 255\n",
    "print(X_train.shape[0], 'train samples')\n",
    "print(X_test.shape[0], 'test samples')"
   ]
  },
  {
   "cell_type": "code",
   "execution_count": 47,
   "metadata": {},
   "outputs": [],
   "source": [
    "# On créé ainsi un réseau de neurones vide.\n",
    "model = Sequential()"
   ]
  },
  {
   "cell_type": "markdown",
   "metadata": {},
   "source": [
    "l’ajout d’une couche de projection linéaire (couche complètement connectée) de taille 10, suivi de l’ajout d’une couche d’activation de type softmax, peuvent s’effectuer de la manière suivante:"
   ]
  },
  {
   "cell_type": "code",
   "execution_count": 48,
   "metadata": {},
   "outputs": [],
   "source": [
    "model.add(Dense(10,  input_dim=784, name='fc1'))\n",
    "model.add(Activation('softmax'))"
   ]
  },
  {
   "cell_type": "code",
   "execution_count": 49,
   "metadata": {},
   "outputs": [
    {
     "name": "stdout",
     "output_type": "stream",
     "text": [
      "_________________________________________________________________\n",
      "Layer (type)                 Output Shape              Param #   \n",
      "=================================================================\n",
      "fc1 (Dense)                  (None, 10)                7850      \n",
      "_________________________________________________________________\n",
      "activation_6 (Activation)    (None, 10)                0         \n",
      "=================================================================\n",
      "Total params: 7,850\n",
      "Trainable params: 7,850\n",
      "Non-trainable params: 0\n",
      "_________________________________________________________________\n"
     ]
    }
   ],
   "source": [
    "model.summary()"
   ]
  },
  {
   "cell_type": "code",
   "execution_count": 50,
   "metadata": {},
   "outputs": [],
   "source": [
    "learning_rate = 0.1\n",
    "sgd = SGD(learning_rate)\n",
    "model.compile(loss='categorical_crossentropy',optimizer=sgd,metrics=['accuracy'])"
   ]
  },
  {
   "cell_type": "code",
   "execution_count": 51,
   "metadata": {},
   "outputs": [
    {
     "name": "stdout",
     "output_type": "stream",
     "text": [
      "Epoch 1/20\n",
      "60000/60000 [==============================] - 1s 11us/step - loss: 0.5407 - acc: 0.8613\n",
      "Epoch 2/20\n",
      "60000/60000 [==============================] - 1s 10us/step - loss: 0.3600 - acc: 0.9009\n",
      "Epoch 3/20\n",
      "60000/60000 [==============================] - 1s 9us/step - loss: 0.3320 - acc: 0.9070\n",
      "Epoch 4/20\n",
      "60000/60000 [==============================] - 1s 9us/step - loss: 0.3172 - acc: 0.9115\n",
      "Epoch 5/20\n",
      "60000/60000 [==============================] - 1s 10us/step - loss: 0.3075 - acc: 0.9140\n",
      "Epoch 6/20\n",
      "60000/60000 [==============================] - 1s 10us/step - loss: 0.3005 - acc: 0.9158\n",
      "Epoch 7/20\n",
      "60000/60000 [==============================] - 1s 10us/step - loss: 0.2955 - acc: 0.9178\n",
      "Epoch 8/20\n",
      "60000/60000 [==============================] - 1s 10us/step - loss: 0.2910 - acc: 0.9184\n",
      "Epoch 9/20\n",
      "60000/60000 [==============================] - 1s 10us/step - loss: 0.2878 - acc: 0.9195\n",
      "Epoch 10/20\n",
      "60000/60000 [==============================] - 1s 10us/step - loss: 0.2847 - acc: 0.9205\n",
      "Epoch 11/20\n",
      "60000/60000 [==============================] - 1s 10us/step - loss: 0.2819 - acc: 0.9215\n",
      "Epoch 12/20\n",
      "60000/60000 [==============================] - 1s 11us/step - loss: 0.2799 - acc: 0.9220\n",
      "Epoch 13/20\n",
      "60000/60000 [==============================] - 1s 11us/step - loss: 0.2779 - acc: 0.9222\n",
      "Epoch 14/20\n",
      "60000/60000 [==============================] - 1s 9us/step - loss: 0.2761 - acc: 0.9234\n",
      "Epoch 15/20\n",
      "60000/60000 [==============================] - 1s 9us/step - loss: 0.2745 - acc: 0.9238\n",
      "Epoch 16/20\n",
      "60000/60000 [==============================] - 1s 9us/step - loss: 0.2731 - acc: 0.9241\n",
      "Epoch 17/20\n",
      "60000/60000 [==============================] - 1s 10us/step - loss: 0.2720 - acc: 0.9240\n",
      "Epoch 18/20\n",
      "60000/60000 [==============================] - 1s 10us/step - loss: 0.2706 - acc: 0.9250\n",
      "Epoch 19/20\n",
      "60000/60000 [==============================] - 1s 10us/step - loss: 0.2695 - acc: 0.9256\n",
      "Epoch 20/20\n",
      "60000/60000 [==============================] - 1s 9us/step - loss: 0.2684 - acc: 0.9257\n"
     ]
    },
    {
     "data": {
      "text/plain": [
       "<keras.callbacks.History at 0x7f1f084f2320>"
      ]
     },
     "execution_count": 51,
     "metadata": {},
     "output_type": "execute_result"
    }
   ],
   "source": [
    "batch_size = 100\n",
    "nb_epoch = 20\n",
    "# convert class vectors to binary class matrices\n",
    "Y_train = np_utils.to_categorical(y_train, 10)\n",
    "Y_test = np_utils.to_categorical(y_test, 10)\n",
    "model.fit(X_train, Y_train,batch_size=batch_size, epochs=nb_epoch,verbose=1)"
   ]
  },
  {
   "cell_type": "code",
   "execution_count": 52,
   "metadata": {},
   "outputs": [
    {
     "name": "stdout",
     "output_type": "stream",
     "text": [
      "loss: 27.21%\n",
      "acc: 92.34%\n"
     ]
    }
   ],
   "source": [
    "scores = model.evaluate(X_test, Y_test, verbose=0)\n",
    "print(\"%s: %.2f%%\" % (model.metrics_names[0], scores[0]*100))\n",
    "print(\"%s: %.2f%%\" % (model.metrics_names[1], scores[1]*100))"
   ]
  },
  {
   "cell_type": "code",
   "execution_count": 54,
   "metadata": {},
   "outputs": [
    {
     "name": "stdout",
     "output_type": "stream",
     "text": [
      "Yaml Model  mlp_2_c .yaml saved to disk\n",
      "Weights  mlp_2_c .h5 saved to disk\n"
     ]
    }
   ],
   "source": [
    "saveModel(model,\"mlp_2_3\")"
   ]
  },
  {
   "cell_type": "code",
   "execution_count": null,
   "metadata": {},
   "outputs": [],
   "source": []
  },
  {
   "cell_type": "code",
   "execution_count": null,
   "metadata": {},
   "outputs": [],
   "source": []
  }
 ],
 "metadata": {
  "kernelspec": {
   "display_name": "Python 3",
   "language": "python",
   "name": "python3"
  },
  "language_info": {
   "codemirror_mode": {
    "name": "ipython",
    "version": 3
   },
   "file_extension": ".py",
   "mimetype": "text/x-python",
   "name": "python",
   "nbconvert_exporter": "python",
   "pygments_lexer": "ipython3",
   "version": "3.6.7"
  }
 },
 "nbformat": 4,
 "nbformat_minor": 2
}
